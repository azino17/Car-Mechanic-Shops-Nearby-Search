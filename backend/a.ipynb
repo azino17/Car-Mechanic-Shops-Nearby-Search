{
 "cells": [
  {
   "cell_type": "code",
   "execution_count": 1,
   "metadata": {},
   "outputs": [],
   "source": [
    "import pandas as pd\n",
    "import re"
   ]
  },
  {
   "cell_type": "code",
   "execution_count": 2,
   "metadata": {},
   "outputs": [],
   "source": [
    "car=pd.read_csv('mechanic dataset pune.csv')"
   ]
  },
  {
   "cell_type": "code",
   "execution_count": 3,
   "metadata": {},
   "outputs": [],
   "source": [
    "def extract_address_info(address_str):\n",
    "    # Define regex patterns for pincode and city extraction\n",
    "    pincode_pattern = r'\\b\\d{6}\\b'\n",
    "    city_pattern = r'(?<=, )[\\w\\s]+'\n",
    "\n",
    "    # Find pincode and city using regex\n",
    "    pincode = re.search(pincode_pattern, address_str)\n",
    "    city = re.search(city_pattern, address_str)\n",
    "\n",
    "    return pincode.group() if pincode else None, city.group() if city else None"
   ]
  },
  {
   "cell_type": "code",
   "execution_count": 4,
   "metadata": {},
   "outputs": [],
   "source": [
    "car['Pincode'], car['City'] = zip(*car['Adddress'].apply(lambda x: extract_address_info(x)))"
   ]
  },
  {
   "cell_type": "code",
   "execution_count": 5,
   "metadata": {},
   "outputs": [
    {
     "name": "stdout",
     "output_type": "stream",
     "text": [
      "                                              Adddress Pincode  \\\n",
      "0    Dr Ambedkar Co Operative Society, Yerawada, Pu...  411006   \n",
      "1    39/87, opp. ALANKAR POLICE STATION, Ganesh Nag...  411038   \n",
      "2    Shitala Devi Chowk Rd, Guruwar Peth, Pune, Mah...  411042   \n",
      "3    310, Ghorpade Peth Rd, Ghorpade Peth, Swargate...  411042   \n",
      "4    169, NC Kelkar Road, Pate - Sampada, Pulachi W...  411030   \n",
      "..                                                 ...     ...   \n",
      "214  C-22, Crystal Plaza, Baner, Pune, Maharashtra ...  411045   \n",
      "215  73, Silver Park, Kalyani Nagar, Pune, Maharash...  411014   \n",
      "216  15, Sapphire Residency, Kharadi, Pune, Maharas...  411014   \n",
      "217  87, Diamond Towers, Hadapsar, Pune, Maharashtr...  411028   \n",
      "218  64, Platinum Enclave, Wakad, Pune, Maharashtra...  411057   \n",
      "\n",
      "                   City  \n",
      "0              Yerawada  \n",
      "1                   opp  \n",
      "2          Guruwar Peth  \n",
      "3      Ghorpade Peth Rd  \n",
      "4        NC Kelkar Road  \n",
      "..                  ...  \n",
      "214       Crystal Plaza  \n",
      "215         Silver Park  \n",
      "216  Sapphire Residency  \n",
      "217      Diamond Towers  \n",
      "218    Platinum Enclave  \n",
      "\n",
      "[219 rows x 3 columns]\n"
     ]
    }
   ],
   "source": [
    "print(car[['Adddress', 'Pincode', 'City']])"
   ]
  },
  {
   "cell_type": "code",
   "execution_count": 6,
   "metadata": {},
   "outputs": [],
   "source": [
    "car['tags'] = car['Adddress'] + car['Pincode'].fillna('') + car['City'].fillna('')\n"
   ]
  },
  {
   "cell_type": "code",
   "execution_count": 7,
   "metadata": {},
   "outputs": [],
   "source": [
    "new_data = car.drop(columns=['Adddress', 'phone'])\n",
    "\n",
    "# Vectorize the text data"
   ]
  },
  {
   "cell_type": "code",
   "execution_count": 8,
   "metadata": {},
   "outputs": [
    {
     "data": {
      "text/html": [
       "<div>\n",
       "<style scoped>\n",
       "    .dataframe tbody tr th:only-of-type {\n",
       "        vertical-align: middle;\n",
       "    }\n",
       "\n",
       "    .dataframe tbody tr th {\n",
       "        vertical-align: top;\n",
       "    }\n",
       "\n",
       "    .dataframe thead th {\n",
       "        text-align: right;\n",
       "    }\n",
       "</style>\n",
       "<table border=\"1\" class=\"dataframe\">\n",
       "  <thead>\n",
       "    <tr style=\"text-align: right;\">\n",
       "      <th></th>\n",
       "      <th>Name</th>\n",
       "      <th>Pincode</th>\n",
       "      <th>City</th>\n",
       "      <th>tags</th>\n",
       "    </tr>\n",
       "  </thead>\n",
       "  <tbody>\n",
       "    <tr>\n",
       "      <th>0</th>\n",
       "      <td>Mateen Auto Garage</td>\n",
       "      <td>411006</td>\n",
       "      <td>Yerawada</td>\n",
       "      <td>Dr Ambedkar Co Operative Society, Yerawada, Pu...</td>\n",
       "    </tr>\n",
       "    <tr>\n",
       "      <th>1</th>\n",
       "      <td>A to Z Automobile Garage</td>\n",
       "      <td>411038</td>\n",
       "      <td>opp</td>\n",
       "      <td>39/87, opp. ALANKAR POLICE STATION, Ganesh Nag...</td>\n",
       "    </tr>\n",
       "    <tr>\n",
       "      <th>2</th>\n",
       "      <td>Aayush Auto Garage</td>\n",
       "      <td>411042</td>\n",
       "      <td>Guruwar Peth</td>\n",
       "      <td>Shitala Devi Chowk Rd, Guruwar Peth, Pune, Mah...</td>\n",
       "    </tr>\n",
       "    <tr>\n",
       "      <th>3</th>\n",
       "      <td>Suryakant Auto Garage</td>\n",
       "      <td>411042</td>\n",
       "      <td>Ghorpade Peth Rd</td>\n",
       "      <td>310, Ghorpade Peth Rd, Ghorpade Peth, Swargate...</td>\n",
       "    </tr>\n",
       "    <tr>\n",
       "      <th>4</th>\n",
       "      <td>P Garage</td>\n",
       "      <td>411030</td>\n",
       "      <td>NC Kelkar Road</td>\n",
       "      <td>169, NC Kelkar Road, Pate - Sampada, Pulachi W...</td>\n",
       "    </tr>\n",
       "    <tr>\n",
       "      <th>...</th>\n",
       "      <td>...</td>\n",
       "      <td>...</td>\n",
       "      <td>...</td>\n",
       "      <td>...</td>\n",
       "    </tr>\n",
       "    <tr>\n",
       "      <th>214</th>\n",
       "      <td>Patel Auto Works</td>\n",
       "      <td>411045</td>\n",
       "      <td>Crystal Plaza</td>\n",
       "      <td>C-22, Crystal Plaza, Baner, Pune, Maharashtra ...</td>\n",
       "    </tr>\n",
       "    <tr>\n",
       "      <th>215</th>\n",
       "      <td>Sharma Car Garage</td>\n",
       "      <td>411014</td>\n",
       "      <td>Silver Park</td>\n",
       "      <td>73, Silver Park, Kalyani Nagar, Pune, Maharash...</td>\n",
       "    </tr>\n",
       "    <tr>\n",
       "      <th>216</th>\n",
       "      <td>Gupta Auto Solutions</td>\n",
       "      <td>411014</td>\n",
       "      <td>Sapphire Residency</td>\n",
       "      <td>15, Sapphire Residency, Kharadi, Pune, Maharas...</td>\n",
       "    </tr>\n",
       "    <tr>\n",
       "      <th>217</th>\n",
       "      <td>Khan Car Repairs</td>\n",
       "      <td>411028</td>\n",
       "      <td>Diamond Towers</td>\n",
       "      <td>87, Diamond Towers, Hadapsar, Pune, Maharashtr...</td>\n",
       "    </tr>\n",
       "    <tr>\n",
       "      <th>218</th>\n",
       "      <td>Singh Motor Solutions</td>\n",
       "      <td>411057</td>\n",
       "      <td>Platinum Enclave</td>\n",
       "      <td>64, Platinum Enclave, Wakad, Pune, Maharashtra...</td>\n",
       "    </tr>\n",
       "  </tbody>\n",
       "</table>\n",
       "<p>219 rows × 4 columns</p>\n",
       "</div>"
      ],
      "text/plain": [
       "                         Name Pincode                City  \\\n",
       "0          Mateen Auto Garage  411006            Yerawada   \n",
       "1    A to Z Automobile Garage  411038                 opp   \n",
       "2          Aayush Auto Garage  411042        Guruwar Peth   \n",
       "3       Suryakant Auto Garage  411042    Ghorpade Peth Rd   \n",
       "4                    P Garage  411030      NC Kelkar Road   \n",
       "..                        ...     ...                 ...   \n",
       "214          Patel Auto Works  411045       Crystal Plaza   \n",
       "215         Sharma Car Garage  411014         Silver Park   \n",
       "216      Gupta Auto Solutions  411014  Sapphire Residency   \n",
       "217          Khan Car Repairs  411028      Diamond Towers   \n",
       "218     Singh Motor Solutions  411057    Platinum Enclave   \n",
       "\n",
       "                                                  tags  \n",
       "0    Dr Ambedkar Co Operative Society, Yerawada, Pu...  \n",
       "1    39/87, opp. ALANKAR POLICE STATION, Ganesh Nag...  \n",
       "2    Shitala Devi Chowk Rd, Guruwar Peth, Pune, Mah...  \n",
       "3    310, Ghorpade Peth Rd, Ghorpade Peth, Swargate...  \n",
       "4    169, NC Kelkar Road, Pate - Sampada, Pulachi W...  \n",
       "..                                                 ...  \n",
       "214  C-22, Crystal Plaza, Baner, Pune, Maharashtra ...  \n",
       "215  73, Silver Park, Kalyani Nagar, Pune, Maharash...  \n",
       "216  15, Sapphire Residency, Kharadi, Pune, Maharas...  \n",
       "217  87, Diamond Towers, Hadapsar, Pune, Maharashtr...  \n",
       "218  64, Platinum Enclave, Wakad, Pune, Maharashtra...  \n",
       "\n",
       "[219 rows x 4 columns]"
      ]
     },
     "execution_count": 8,
     "metadata": {},
     "output_type": "execute_result"
    }
   ],
   "source": [
    "new_data"
   ]
  },
  {
   "cell_type": "code",
   "execution_count": 9,
   "metadata": {},
   "outputs": [],
   "source": [
    "from sklearn.feature_extraction.text import CountVectorizer"
   ]
  },
  {
   "cell_type": "code",
   "execution_count": 10,
   "metadata": {},
   "outputs": [],
   "source": [
    "cv=CountVectorizer(max_features=219, stop_words='english')"
   ]
  },
  {
   "cell_type": "code",
   "execution_count": 11,
   "metadata": {},
   "outputs": [
    {
     "data": {
      "text/html": [
       "<style>#sk-container-id-1 {color: black;}#sk-container-id-1 pre{padding: 0;}#sk-container-id-1 div.sk-toggleable {background-color: white;}#sk-container-id-1 label.sk-toggleable__label {cursor: pointer;display: block;width: 100%;margin-bottom: 0;padding: 0.3em;box-sizing: border-box;text-align: center;}#sk-container-id-1 label.sk-toggleable__label-arrow:before {content: \"▸\";float: left;margin-right: 0.25em;color: #696969;}#sk-container-id-1 label.sk-toggleable__label-arrow:hover:before {color: black;}#sk-container-id-1 div.sk-estimator:hover label.sk-toggleable__label-arrow:before {color: black;}#sk-container-id-1 div.sk-toggleable__content {max-height: 0;max-width: 0;overflow: hidden;text-align: left;background-color: #f0f8ff;}#sk-container-id-1 div.sk-toggleable__content pre {margin: 0.2em;color: black;border-radius: 0.25em;background-color: #f0f8ff;}#sk-container-id-1 input.sk-toggleable__control:checked~div.sk-toggleable__content {max-height: 200px;max-width: 100%;overflow: auto;}#sk-container-id-1 input.sk-toggleable__control:checked~label.sk-toggleable__label-arrow:before {content: \"▾\";}#sk-container-id-1 div.sk-estimator input.sk-toggleable__control:checked~label.sk-toggleable__label {background-color: #d4ebff;}#sk-container-id-1 div.sk-label input.sk-toggleable__control:checked~label.sk-toggleable__label {background-color: #d4ebff;}#sk-container-id-1 input.sk-hidden--visually {border: 0;clip: rect(1px 1px 1px 1px);clip: rect(1px, 1px, 1px, 1px);height: 1px;margin: -1px;overflow: hidden;padding: 0;position: absolute;width: 1px;}#sk-container-id-1 div.sk-estimator {font-family: monospace;background-color: #f0f8ff;border: 1px dotted black;border-radius: 0.25em;box-sizing: border-box;margin-bottom: 0.5em;}#sk-container-id-1 div.sk-estimator:hover {background-color: #d4ebff;}#sk-container-id-1 div.sk-parallel-item::after {content: \"\";width: 100%;border-bottom: 1px solid gray;flex-grow: 1;}#sk-container-id-1 div.sk-label:hover label.sk-toggleable__label {background-color: #d4ebff;}#sk-container-id-1 div.sk-serial::before {content: \"\";position: absolute;border-left: 1px solid gray;box-sizing: border-box;top: 0;bottom: 0;left: 50%;z-index: 0;}#sk-container-id-1 div.sk-serial {display: flex;flex-direction: column;align-items: center;background-color: white;padding-right: 0.2em;padding-left: 0.2em;position: relative;}#sk-container-id-1 div.sk-item {position: relative;z-index: 1;}#sk-container-id-1 div.sk-parallel {display: flex;align-items: stretch;justify-content: center;background-color: white;position: relative;}#sk-container-id-1 div.sk-item::before, #sk-container-id-1 div.sk-parallel-item::before {content: \"\";position: absolute;border-left: 1px solid gray;box-sizing: border-box;top: 0;bottom: 0;left: 50%;z-index: -1;}#sk-container-id-1 div.sk-parallel-item {display: flex;flex-direction: column;z-index: 1;position: relative;background-color: white;}#sk-container-id-1 div.sk-parallel-item:first-child::after {align-self: flex-end;width: 50%;}#sk-container-id-1 div.sk-parallel-item:last-child::after {align-self: flex-start;width: 50%;}#sk-container-id-1 div.sk-parallel-item:only-child::after {width: 0;}#sk-container-id-1 div.sk-dashed-wrapped {border: 1px dashed gray;margin: 0 0.4em 0.5em 0.4em;box-sizing: border-box;padding-bottom: 0.4em;background-color: white;}#sk-container-id-1 div.sk-label label {font-family: monospace;font-weight: bold;display: inline-block;line-height: 1.2em;}#sk-container-id-1 div.sk-label-container {text-align: center;}#sk-container-id-1 div.sk-container {/* jupyter's `normalize.less` sets `[hidden] { display: none; }` but bootstrap.min.css set `[hidden] { display: none !important; }` so we also need the `!important` here to be able to override the default hidden behavior on the sphinx rendered scikit-learn.org. See: https://github.com/scikit-learn/scikit-learn/issues/21755 */display: inline-block !important;position: relative;}#sk-container-id-1 div.sk-text-repr-fallback {display: none;}</style><div id=\"sk-container-id-1\" class=\"sk-top-container\"><div class=\"sk-text-repr-fallback\"><pre>CountVectorizer(max_features=219, stop_words=&#x27;english&#x27;)</pre><b>In a Jupyter environment, please rerun this cell to show the HTML representation or trust the notebook. <br />On GitHub, the HTML representation is unable to render, please try loading this page with nbviewer.org.</b></div><div class=\"sk-container\" hidden><div class=\"sk-item\"><div class=\"sk-estimator sk-toggleable\"><input class=\"sk-toggleable__control sk-hidden--visually\" id=\"sk-estimator-id-1\" type=\"checkbox\" checked><label for=\"sk-estimator-id-1\" class=\"sk-toggleable__label sk-toggleable__label-arrow\">CountVectorizer</label><div class=\"sk-toggleable__content\"><pre>CountVectorizer(max_features=219, stop_words=&#x27;english&#x27;)</pre></div></div></div></div></div>"
      ],
      "text/plain": [
       "CountVectorizer(max_features=219, stop_words='english')"
      ]
     },
     "execution_count": 11,
     "metadata": {},
     "output_type": "execute_result"
    }
   ],
   "source": [
    "cv"
   ]
  },
  {
   "cell_type": "code",
   "execution_count": 12,
   "metadata": {},
   "outputs": [],
   "source": [
    "vector=cv.fit_transform(new_data['tags'].values.astype('U')).toarray()"
   ]
  },
  {
   "cell_type": "code",
   "execution_count": 13,
   "metadata": {},
   "outputs": [
    {
     "data": {
      "text/plain": [
       "(219, 219)"
      ]
     },
     "execution_count": 13,
     "metadata": {},
     "output_type": "execute_result"
    }
   ],
   "source": [
    "vector.shape"
   ]
  },
  {
   "cell_type": "code",
   "execution_count": 14,
   "metadata": {},
   "outputs": [],
   "source": [
    "from sklearn.metrics.pairwise import cosine_similarity"
   ]
  },
  {
   "cell_type": "code",
   "execution_count": 15,
   "metadata": {},
   "outputs": [],
   "source": [
    "similairty=cosine_similarity(vector)"
   ]
  },
  {
   "cell_type": "code",
   "execution_count": 16,
   "metadata": {},
   "outputs": [
    {
     "data": {
      "text/plain": [
       "array([[1.        , 0.37796447, 0.35355339, ..., 0.30151134, 0.30151134,\n",
       "        0.31622777],\n",
       "       [0.37796447, 1.        , 0.26726124, ..., 0.22792115, 0.34188173,\n",
       "        0.23904572],\n",
       "       [0.35355339, 0.26726124, 1.        , ..., 0.21320072, 0.21320072,\n",
       "        0.2236068 ],\n",
       "       ...,\n",
       "       [0.30151134, 0.22792115, 0.21320072, ..., 1.        , 0.18181818,\n",
       "        0.19069252],\n",
       "       [0.30151134, 0.34188173, 0.21320072, ..., 0.18181818, 1.        ,\n",
       "        0.19069252],\n",
       "       [0.31622777, 0.23904572, 0.2236068 , ..., 0.19069252, 0.19069252,\n",
       "        1.        ]])"
      ]
     },
     "execution_count": 16,
     "metadata": {},
     "output_type": "execute_result"
    }
   ],
   "source": [
    "similairty"
   ]
  },
  {
   "cell_type": "code",
   "execution_count": 17,
   "metadata": {},
   "outputs": [
    {
     "name": "stdout",
     "output_type": "stream",
     "text": [
      "Aayush Auto Garage\n",
      "Suryakant Auto Garage\n",
      "Dharmendra Auto Garage\n",
      "Patel Garage\n",
      "Patel Automobile Repairs\n"
     ]
    }
   ],
   "source": [
    "distance=sorted(list(enumerate(similairty[2])), reverse=True,key=lambda vector:vector[1])\n",
    "for i in distance[0:5]:\n",
    "    print(new_data.iloc[i[0]].Name)"
   ]
  },
  {
   "cell_type": "code",
   "execution_count": 18,
   "metadata": {},
   "outputs": [
    {
     "name": "stderr",
     "output_type": "stream",
     "text": [
      "c:\\Users\\Admin\\AppData\\Local\\Programs\\Python\\Python311\\Lib\\site-packages\\fuzzywuzzy\\fuzz.py:11: UserWarning: Using slow pure-python SequenceMatcher. Install python-Levenshtein to remove this warning\n",
      "  warnings.warn('Using slow pure-python SequenceMatcher. Install python-Levenshtein to remove this warning')\n"
     ]
    }
   ],
   "source": [
    "from fuzzywuzzy import fuzz\n",
    "from fuzzywuzzy import process"
   ]
  },
  {
   "cell_type": "code",
   "execution_count": 19,
   "metadata": {},
   "outputs": [],
   "source": [
    "# def recommend(car):\n",
    "#     index=new_data[new_data['tags']==car].index[0]\n",
    "#     distance=sorted(list(enumerate(similairty[index])), reverse=True,key=lambda vector:vector[1])\n",
    "#     for i in distance[0:5]:\n",
    "#         print(new_data.iloc[i[0]].Name)\n",
    "\n",
    "# def recommend(address):\n",
    "#     # Define a threshold for fuzzy matching\n",
    "#     threshold = 70\n",
    "    \n",
    "#     # Find similar addresses in the dataset using fuzzy matching\n",
    "#     similar_addresses = process.extract(address, new_data['tags'], scorer=fuzz.token_sort_ratio)\n",
    "    \n",
    "#     # Extract garage names corresponding to similar addresses\n",
    "#     similar_garages = []\n",
    "#     for similar_address, score, index in similar_addresses:\n",
    "#         if score >= threshold:\n",
    "#             similar_garages.append(new_data.iloc[index]['Name'])\n",
    "    \n",
    "#     return similar_garages\n",
    "\n",
    "def recommend(address, pincode, city):\n",
    "    # Combine address, pincode, and city into a single string\n",
    "    input_text = address + pincode + city\n",
    "    \n",
    "    # Define a threshold for fuzzy matching\n",
    "    threshold = 70\n",
    "    \n",
    "    # Find similar addresses in the dataset using fuzzy matching\n",
    "    similar_addresses = process.extract(input_text, new_data['tags'], scorer=fuzz.token_sort_ratio)\n",
    "    \n",
    "    # Extract garage names corresponding to similar addresses\n",
    "    similar_garages = []\n",
    "    for similar_address, score, index in similar_addresses:\n",
    "        if score >= threshold:\n",
    "            similar_garages.append(new_data.iloc[index]['Name'])\n",
    "    \n",
    "    return similar_garages\n",
    "\n",
    "\n",
    "    \n",
    "    "
   ]
  },
  {
   "cell_type": "code",
   "execution_count": 20,
   "metadata": {},
   "outputs": [],
   "source": [
    "import pickle"
   ]
  },
  {
   "cell_type": "code",
   "execution_count": 21,
   "metadata": {},
   "outputs": [],
   "source": [
    "pickle.dump(new_data,open('car_list.pkl','wb'))"
   ]
  },
  {
   "cell_type": "code",
   "execution_count": 22,
   "metadata": {},
   "outputs": [],
   "source": [
    "pickle.dump(similairty, open('similarity.pkl','wb'))"
   ]
  },
  {
   "cell_type": "code",
   "execution_count": 23,
   "metadata": {},
   "outputs": [
    {
     "data": {
      "text/html": [
       "<div>\n",
       "<style scoped>\n",
       "    .dataframe tbody tr th:only-of-type {\n",
       "        vertical-align: middle;\n",
       "    }\n",
       "\n",
       "    .dataframe tbody tr th {\n",
       "        vertical-align: top;\n",
       "    }\n",
       "\n",
       "    .dataframe thead th {\n",
       "        text-align: right;\n",
       "    }\n",
       "</style>\n",
       "<table border=\"1\" class=\"dataframe\">\n",
       "  <thead>\n",
       "    <tr style=\"text-align: right;\">\n",
       "      <th></th>\n",
       "      <th>Name</th>\n",
       "      <th>Pincode</th>\n",
       "      <th>City</th>\n",
       "      <th>tags</th>\n",
       "    </tr>\n",
       "  </thead>\n",
       "  <tbody>\n",
       "    <tr>\n",
       "      <th>0</th>\n",
       "      <td>Mateen Auto Garage</td>\n",
       "      <td>411006</td>\n",
       "      <td>Yerawada</td>\n",
       "      <td>Dr Ambedkar Co Operative Society, Yerawada, Pu...</td>\n",
       "    </tr>\n",
       "    <tr>\n",
       "      <th>1</th>\n",
       "      <td>A to Z Automobile Garage</td>\n",
       "      <td>411038</td>\n",
       "      <td>opp</td>\n",
       "      <td>39/87, opp. ALANKAR POLICE STATION, Ganesh Nag...</td>\n",
       "    </tr>\n",
       "    <tr>\n",
       "      <th>2</th>\n",
       "      <td>Aayush Auto Garage</td>\n",
       "      <td>411042</td>\n",
       "      <td>Guruwar Peth</td>\n",
       "      <td>Shitala Devi Chowk Rd, Guruwar Peth, Pune, Mah...</td>\n",
       "    </tr>\n",
       "    <tr>\n",
       "      <th>3</th>\n",
       "      <td>Suryakant Auto Garage</td>\n",
       "      <td>411042</td>\n",
       "      <td>Ghorpade Peth Rd</td>\n",
       "      <td>310, Ghorpade Peth Rd, Ghorpade Peth, Swargate...</td>\n",
       "    </tr>\n",
       "    <tr>\n",
       "      <th>4</th>\n",
       "      <td>P Garage</td>\n",
       "      <td>411030</td>\n",
       "      <td>NC Kelkar Road</td>\n",
       "      <td>169, NC Kelkar Road, Pate - Sampada, Pulachi W...</td>\n",
       "    </tr>\n",
       "    <tr>\n",
       "      <th>...</th>\n",
       "      <td>...</td>\n",
       "      <td>...</td>\n",
       "      <td>...</td>\n",
       "      <td>...</td>\n",
       "    </tr>\n",
       "    <tr>\n",
       "      <th>214</th>\n",
       "      <td>Patel Auto Works</td>\n",
       "      <td>411045</td>\n",
       "      <td>Crystal Plaza</td>\n",
       "      <td>C-22, Crystal Plaza, Baner, Pune, Maharashtra ...</td>\n",
       "    </tr>\n",
       "    <tr>\n",
       "      <th>215</th>\n",
       "      <td>Sharma Car Garage</td>\n",
       "      <td>411014</td>\n",
       "      <td>Silver Park</td>\n",
       "      <td>73, Silver Park, Kalyani Nagar, Pune, Maharash...</td>\n",
       "    </tr>\n",
       "    <tr>\n",
       "      <th>216</th>\n",
       "      <td>Gupta Auto Solutions</td>\n",
       "      <td>411014</td>\n",
       "      <td>Sapphire Residency</td>\n",
       "      <td>15, Sapphire Residency, Kharadi, Pune, Maharas...</td>\n",
       "    </tr>\n",
       "    <tr>\n",
       "      <th>217</th>\n",
       "      <td>Khan Car Repairs</td>\n",
       "      <td>411028</td>\n",
       "      <td>Diamond Towers</td>\n",
       "      <td>87, Diamond Towers, Hadapsar, Pune, Maharashtr...</td>\n",
       "    </tr>\n",
       "    <tr>\n",
       "      <th>218</th>\n",
       "      <td>Singh Motor Solutions</td>\n",
       "      <td>411057</td>\n",
       "      <td>Platinum Enclave</td>\n",
       "      <td>64, Platinum Enclave, Wakad, Pune, Maharashtra...</td>\n",
       "    </tr>\n",
       "  </tbody>\n",
       "</table>\n",
       "<p>219 rows × 4 columns</p>\n",
       "</div>"
      ],
      "text/plain": [
       "                         Name Pincode                City  \\\n",
       "0          Mateen Auto Garage  411006            Yerawada   \n",
       "1    A to Z Automobile Garage  411038                 opp   \n",
       "2          Aayush Auto Garage  411042        Guruwar Peth   \n",
       "3       Suryakant Auto Garage  411042    Ghorpade Peth Rd   \n",
       "4                    P Garage  411030      NC Kelkar Road   \n",
       "..                        ...     ...                 ...   \n",
       "214          Patel Auto Works  411045       Crystal Plaza   \n",
       "215         Sharma Car Garage  411014         Silver Park   \n",
       "216      Gupta Auto Solutions  411014  Sapphire Residency   \n",
       "217          Khan Car Repairs  411028      Diamond Towers   \n",
       "218     Singh Motor Solutions  411057    Platinum Enclave   \n",
       "\n",
       "                                                  tags  \n",
       "0    Dr Ambedkar Co Operative Society, Yerawada, Pu...  \n",
       "1    39/87, opp. ALANKAR POLICE STATION, Ganesh Nag...  \n",
       "2    Shitala Devi Chowk Rd, Guruwar Peth, Pune, Mah...  \n",
       "3    310, Ghorpade Peth Rd, Ghorpade Peth, Swargate...  \n",
       "4    169, NC Kelkar Road, Pate - Sampada, Pulachi W...  \n",
       "..                                                 ...  \n",
       "214  C-22, Crystal Plaza, Baner, Pune, Maharashtra ...  \n",
       "215  73, Silver Park, Kalyani Nagar, Pune, Maharash...  \n",
       "216  15, Sapphire Residency, Kharadi, Pune, Maharas...  \n",
       "217  87, Diamond Towers, Hadapsar, Pune, Maharashtr...  \n",
       "218  64, Platinum Enclave, Wakad, Pune, Maharashtra...  \n",
       "\n",
       "[219 rows x 4 columns]"
      ]
     },
     "execution_count": 23,
     "metadata": {},
     "output_type": "execute_result"
    }
   ],
   "source": [
    "pickle.load(open('car_list.pkl','rb'))"
   ]
  },
  {
   "cell_type": "code",
   "execution_count": 24,
   "metadata": {},
   "outputs": [
    {
     "name": "stdout",
     "output_type": "stream",
     "text": [
      "Recommended Garages based on Address, Pincode, and City:\n",
      "Mehta Auto Solutions\n",
      "Desai Car Solutions\n",
      "Singh Automobile Repairs\n"
     ]
    }
   ],
   "source": [
    "\n",
    "input_address = \"56, Camp Road, Pune, Maharashtra 411001\"\n",
    "input_pincode = \"411001\"\n",
    "input_city = \"Pune\"\n",
    "\n",
    "# Recommend garages based on input fields\n",
    "recommended_garages = recommend(input_address, input_pincode, input_city)\n",
    "\n",
    "# Print recommended garages\n",
    "if recommended_garages:\n",
    "    print(\"Recommended Garages based on Address, Pincode, and City:\")\n",
    "    for garage in recommended_garages:\n",
    "        print(garage)\n",
    "else:\n",
    "    print(\"No similar addresses found in the dataset.\")\n"
   ]
  }
 ],
 "metadata": {
  "kernelspec": {
   "display_name": "Python 3",
   "language": "python",
   "name": "python3"
  },
  "language_info": {
   "codemirror_mode": {
    "name": "ipython",
    "version": 3
   },
   "file_extension": ".py",
   "mimetype": "text/x-python",
   "name": "python",
   "nbconvert_exporter": "python",
   "pygments_lexer": "ipython3",
   "version": "3.11.0"
  }
 },
 "nbformat": 4,
 "nbformat_minor": 2
}
